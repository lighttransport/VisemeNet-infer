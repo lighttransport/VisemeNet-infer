{
 "cells": [
  {
   "cell_type": "markdown",
   "metadata": {
    "colab_type": "text",
    "id": "6bYaCABobL5q"
   },
   "source": [
    "##### Copyright 2018 The TensorFlow Authors."
   ]
  },
  {
   "cell_type": "code",
   "execution_count": 1,
   "metadata": {
    "cellView": "form",
    "colab": {},
    "colab_type": "code",
    "id": "FlUw7tSKbtg4"
   },
   "outputs": [],
   "source": [
    "#@title Licensed under the Apache License, Version 2.0 (the \"License\");\n",
    "# you may not use this file except in compliance with the License.\n",
    "# You may obtain a copy of the License at\n",
    "#\n",
    "# https://www.apache.org/licenses/LICENSE-2.0\n",
    "#\n",
    "# Unless required by applicable law or agreed to in writing, software\n",
    "# distributed under the License is distributed on an \"AS IS\" BASIS,\n",
    "# WITHOUT WARRANTIES OR CONDITIONS OF ANY KIND, either express or implied.\n",
    "# See the License for the specific language governing permissions and\n",
    "# limitations under the License."
   ]
  },
  {
   "cell_type": "markdown",
   "metadata": {
    "colab_type": "text",
    "id": "08OTcmxgqkc2"
   },
   "source": [
    "# Automatically upgrade code to TensorFlow 2\n",
    "\n",
    "<table class=\"tfo-notebook-buttons\" align=\"left\">\n",
    "  <td>\n",
    "    <a target=\"_blank\" href=\"https://www.tensorflow.org/guide/upgrade\">\n",
    "    <img src=\"https://www.tensorflow.org/images/tf_logo_32px.png\" />\n",
    "    View on TensorFlow.org</a>\n",
    "  </td>\n",
    "  <td>\n",
    "    <a target=\"_blank\" href=\"https://colab.research.google.com/github/tensorflow/docs/blob/master/site/en/guide/upgrade.ipynb\">\n",
    "    <img src=\"https://www.tensorflow.org/images/colab_logo_32px.png\" />\n",
    "    Run in Google Colab</a>\n",
    "  </td>\n",
    "  <td>\n",
    "    <a target=\"_blank\" href=\"https://github.com/tensorflow/docs/blob/master/site/en/guide/upgrade.ipynb\">\n",
    "    <img src=\"https://www.tensorflow.org/images/GitHub-Mark-32px.png\" />\n",
    "    View source on GitHub</a>\n",
    "  </td>\n",
    "  <td>\n",
    "    <a target=\"_blank\" href=\"https://storage.googleapis.com/tensorflow_docs/docs/site/en/guide/upgrade.ipynb\">\n",
    "    <img src=\"https://www.tensorflow.org/images/download_logo_32px.png\" />\n",
    "    Download notebook</a>\n",
    "  </td>\n",
    "</table>\n",
    "\n"
   ]
  },
  {
   "cell_type": "markdown",
   "metadata": {
    "colab_type": "text",
    "id": "hZSaRPoybOp5"
   },
   "source": [
    "TensorFlow 2.0 includes many API changes, such as reordering arguments, renaming symbols, and changing default values for parameters. Manually performing all of these modifications would be tedious and prone to error. To streamline the changes, and to make your transition to TF 2.0 as seamless as possible, the TensorFlow team has created the `tf_upgrade_v2` utility to help transition legacy code to the new API.\n",
    "\n",
    "Note: `tf_upgrade_v2` is installed automatically for TensorFlow 1.13 and later (including all TF 2.0 builds).\n",
    "\n",
    "Typical usage is like this:\n",
    "\n",
    "<pre class=\"devsite-terminal devsite-click-to-copy prettyprint lang-bsh\">\n",
    "tf_upgrade_v2 \\\n",
    "  --intree my_project/ \\\n",
    "  --outtree my_project_v2/ \\\n",
    "  --reportfile report.txt\n",
    "</pre>\n",
    "\n",
    "It will accelerate your upgrade process by converting existing TensorFlow 1.x Python scripts to TensorFlow 2.0.\n",
    "\n",
    "The conversion script automates as much as possible, but there are still syntactical and stylistic changes that cannot be performed by the script."
   ]
  },
  {
   "cell_type": "markdown",
   "metadata": {
    "colab_type": "text",
    "id": "gP9v2vgptdfi"
   },
   "source": [
    "## Compatibility modules\n",
    "\n",
    "Certain API symbols can not be upgraded simply by using a string replacement. To ensure your code is still supported in TensorFlow 2.0, the upgrade script includes a `compat.v1` module. This module replaces TF 1.x symbols like `tf.foo` with the equivalent `tf.compat.v1.foo` reference. While the compatibility module is nice, we recommend that you manually proofread replacements and migrate them to new APIs in the `tf.*` namespace instead of `tf.compat.v1` namespace as quickly as possible.\n",
    "\n",
    "Because of TensorFlow 2.x module deprecations (for example, `tf.flags` and `tf.contrib`), some changes can not be worked around by switching to `compat.v1`. Upgrading this code may require using an additional library (for example, [`absl.flags`](https://github.com/abseil/abseil-py)) or switching to a package in [tensorflow/addons](http://www.github.com/tensorflow/addons).\n",
    "\n"
   ]
  },
  {
   "cell_type": "markdown",
   "metadata": {
    "colab_type": "text",
    "id": "s78bbfjkXYb7"
   },
   "source": [
    "## Recommended upgrade process\n",
    "\n",
    "The rest of this guide demonstrates how to use the upgrade script. While the upgrade script is easy to use, it is strongly recomended that you use the script as part of the following process: \n",
    "\n",
    "1. **Unit Test**: Ensure that the code you’re upgrading has a unit test suite with reasonable coverage. This is Python code, so the language won’t protect you from many classes of mistakes. Also ensure that any dependency you have has already been upgraded to be compatible with TensorFlow 2.0.\n",
    "\n",
    "1. **Install TensorFlow 1.14**: Upgrade your TensorFlow to the latest TensorFlow 1.x version, at least 1.14. This includes the final TensorFlow 2.0 API in `tf.compat.v2`.\n",
    "\n",
    "1. **Test With 1.14**: Ensure your unit tests pass at this point. You’ll be running them repeatedly as you upgrade so starting from green is important.\n",
    "\n",
    "1. **Run the upgrade script**: Run `tf_upgrade_v2` on your entire source tree, tests included. This will upgrade your code to a format where it only uses symbols available in TensorFlow 2.0. Deprecated symbols will be accessed with `tf.compat.v1`. These will will eventually require manual attention, but not immediately.\n",
    "\n",
    "1. **Run the converted tests with TensorFlow 1.14**: Your code should still run fine in TensorFlow 1.14. Run your unit tests again. Any error in your tests here means there’s a bug in the upgrade script. [Please let us know](https://github.com/tensorflow/tensorflow/issues).\n",
    "\n",
    "1. **Check the upgrade report for warnings and errors**: The script writes a report file that explains any conversions you should double-check, or any manual action you need to take. For example: Any remaining instances of contrib will require manual action to remove. Please consult [the RFC for more instructions](https://github.com/tensorflow/community/blob/master/rfcs/20180907-contrib-sunset.md). \n",
    "\n",
    "1. **Install TensorFlow 2.0**: At this point it should be safe to switch to TensorFlow 2.0\n",
    "\n",
    "1. **Test with `v1.disable_v2_behavior`**: Re-running your tests with al `v1.disable_v2_behavior()` in the tests main function should give the same results as running under 1.14.\n",
    "\n",
    "1. **Enable V2 Behavior**: Now that your tests work using the v2 API, you can start looking into turning on v2 behavior. Depending on how your code is written this may require some changes. See the [Migration guide](migrate.ipynb) for details."
   ]
  },
  {
   "cell_type": "markdown",
   "metadata": {
    "colab_type": "text",
    "id": "6pwSAQEwvscP"
   },
   "source": [
    "## Using the upgrade script\n"
   ]
  },
  {
   "cell_type": "markdown",
   "metadata": {
    "colab_type": "text",
    "id": "I9NCvDt5GwX4"
   },
   "source": [
    "### Setup\n",
    "\n",
    "Before getting started ensure that TensorlFlow 2.0 is installed."
   ]
  },
  {
   "cell_type": "code",
   "execution_count": 2,
   "metadata": {
    "colab": {},
    "colab_type": "code",
    "id": "YKPlcTxLtgdN"
   },
   "outputs": [],
   "source": [
    "!pip install -q tensorflow"
   ]
  },
  {
   "cell_type": "code",
   "execution_count": 1,
   "metadata": {
    "colab": {},
    "colab_type": "code",
    "id": "DWVYbvi1WCeY"
   },
   "outputs": [
    {
     "name": "stdout",
     "output_type": "stream",
     "text": [
      "2.0.0\n"
     ]
    }
   ],
   "source": [
    "from __future__ import absolute_import, division, print_function, unicode_literals\n",
    "import tensorflow as tf\n",
    "print(tf.__version__)"
   ]
  },
  {
   "cell_type": "markdown",
   "metadata": {
    "colab_type": "text",
    "id": "Ycy3B5PNGutU"
   },
   "source": [
    "Clone the [tensorflow/models](https://github.com/tensorflow/models) git repository so you have some code to test on:"
   ]
  },
  {
   "cell_type": "code",
   "execution_count": 2,
   "metadata": {
    "colab": {},
    "colab_type": "code",
    "id": "jyckoWyAZEhZ"
   },
   "outputs": [
    {
     "name": "stdout",
     "output_type": "stream",
     "text": [
      "Cloning into 'models'...\n",
      "remote: Enumerating objects: 2927, done.\u001b[K\n",
      "remote: Counting objects: 100% (2927/2927), done.\u001b[K\n",
      "remote: Compressing objects: 100% (2447/2447), done.\u001b[K\n",
      "remote: Total 2927 (delta 512), reused 2068 (delta 405), pack-reused 0\u001b[K\n",
      "Receiving objects: 100% (2927/2927), 369.03 MiB | 4.96 MiB/s, done.\n",
      "Resolving deltas: 100% (512/512), done.\n",
      "Checking out files: 100% (2768/2768), done.\n"
     ]
    }
   ],
   "source": [
    "!git clone --branch r1.13.0 --depth 1 https://github.com/tensorflow/models"
   ]
  },
  {
   "cell_type": "markdown",
   "metadata": {
    "colab_type": "text",
    "id": "wfHOhbkgvrKr"
   },
   "source": [
    "\n",
    "### Read the help\n",
    "\n",
    "The script should be installed with TensorFlow. Here is the builtin help:"
   ]
  },
  {
   "cell_type": "code",
   "execution_count": 20,
   "metadata": {
    "colab": {},
    "colab_type": "code",
    "id": "m2GF-tlntqTQ"
   },
   "outputs": [
    {
     "name": "stdout",
     "output_type": "stream",
     "text": [
      "usage: tf_upgrade_v2 [-h] [--infile INPUT_FILE] [--outfile OUTPUT_FILE]\r\n",
      "                     [--intree INPUT_TREE] [--outtree OUTPUT_TREE]\r\n",
      "                     [--copyotherfiles COPY_OTHER_FILES] [--inplace]\r\n",
      "                     [--reportfile REPORT_FILENAME] [--mode {DEFAULT,SAFETY}]\r\n",
      "                     [--print_all]\r\n",
      "\r\n",
      "Convert a TensorFlow Python file from 1.x to 2.0\r\n",
      "\r\n",
      "Simple usage:\r\n",
      "  tf_upgrade_v2.py --infile foo.py --outfile bar.py\r\n",
      "  tf_upgrade_v2.py --infile foo.ipynb --outfile bar.ipynb\r\n",
      "  tf_upgrade_v2.py --intree ~/code/old --outtree ~/code/new\r\n",
      "\r\n",
      "optional arguments:\r\n",
      "  -h, --help            show this help message and exit\r\n",
      "  --infile INPUT_FILE   If converting a single file, the name of the file to\r\n",
      "                        convert\r\n",
      "  --outfile OUTPUT_FILE\r\n",
      "                        If converting a single file, the output filename.\r\n",
      "  --intree INPUT_TREE   If converting a whole tree of files, the directory to\r\n",
      "                        read from (relative or absolute).\r\n",
      "  --outtree OUTPUT_TREE\r\n",
      "                        If converting a whole tree of files, the output\r\n",
      "                        directory (relative or absolute).\r\n",
      "  --copyotherfiles COPY_OTHER_FILES\r\n",
      "                        If converting a whole tree of files, whether to copy\r\n",
      "                        the other files.\r\n",
      "  --inplace             If converting a set of files, whether to allow the\r\n",
      "                        conversion to be performed on the input files.\r\n",
      "  --reportfile REPORT_FILENAME\r\n",
      "                        The name of the file where the report log is\r\n",
      "                        stored.(default: report.txt)\r\n",
      "  --mode {DEFAULT,SAFETY}\r\n",
      "                        Upgrade script mode. Supported modes: DEFAULT: Perform\r\n",
      "                        only straightforward conversions to upgrade to 2.0. In\r\n",
      "                        more difficult cases, switch to use compat.v1. SAFETY:\r\n",
      "                        Keep 1.* code intact and import compat.v1 module. Also\r\n",
      "                        disable 2.0 behavior to ensure code that requires 1.X\r\n",
      "                        behavior continues to work.\r\n",
      "  --print_all           Print full log to stdout instead of just printing\r\n",
      "                        errors\r\n"
     ]
    }
   ],
   "source": [
    "!tf_upgrade_v2 -h --infile ./use_frozen.py  --outfile v2_use_frozen.py"
   ]
  },
  {
   "cell_type": "markdown",
   "metadata": {
    "colab_type": "text",
    "id": "se9Leqjm1CZR"
   },
   "source": [
    "### Example TF1 code"
   ]
  },
  {
   "cell_type": "markdown",
   "metadata": {
    "colab_type": "text",
    "id": "whD5i36s1SuM"
   },
   "source": [
    "Here is a simple TensorFlow 1.0 script:"
   ]
  },
  {
   "cell_type": "code",
   "execution_count": 4,
   "metadata": {
    "colab": {},
    "colab_type": "code",
    "id": "mhGbYQ9HwbeU"
   },
   "outputs": [
    {
     "name": "stdout",
     "output_type": "stream",
     "text": [
      "  # Calculate loss using mean squared error\r\n",
      "  average_loss = tf.losses.mean_squared_error(labels, predictions)\r\n",
      "\r\n",
      "  # Pre-made estimators use the total_loss instead of the average,\r\n",
      "  # so report total_loss for compatibility.\r\n",
      "  batch_size = tf.shape(labels)[0]\r\n",
      "  total_loss = tf.to_float(batch_size) * average_loss\r\n",
      "\r\n",
      "  if mode == tf.estimator.ModeKeys.TRAIN:\r\n",
      "    optimizer = params.get(\"optimizer\", tf.train.AdamOptimizer)\r\n"
     ]
    }
   ],
   "source": [
    "!head -n 65 models/samples/cookbook/regression/custom_regression.py | tail -n 10"
   ]
  },
  {
   "cell_type": "markdown",
   "metadata": {
    "colab_type": "text",
    "id": "UGO7xSyL89wX"
   },
   "source": [
    "With TensorFlow 2.0 installed it does not run:"
   ]
  },
  {
   "cell_type": "code",
   "execution_count": 5,
   "metadata": {
    "colab": {},
    "colab_type": "code",
    "id": "TD7fFphX8_qE"
   },
   "outputs": [
    {
     "name": "stdout",
     "output_type": "stream",
     "text": [
      "Traceback (most recent call last):\r\n",
      "  File \"custom_regression.py\", line 25, in <module>\r\n",
      "    import automobile_data\r\n",
      "  File \"/home/ubuntu/VisemeNet_tensorflow/models/samples/cookbook/regression/automobile_data.py\", line 24, in <module>\r\n",
      "    import pandas as pd\r\n",
      "ModuleNotFoundError: No module named 'pandas'\r\n"
     ]
    }
   ],
   "source": [
    "!(cd models/samples/cookbook/regression && python custom_regression.py)"
   ]
  },
  {
   "cell_type": "markdown",
   "metadata": {
    "colab_type": "text",
    "id": "iZZHu0H0wLRJ"
   },
   "source": [
    "### Single file\n",
    "\n",
    "The upgrade script can be run on a single Python file:"
   ]
  },
  {
   "cell_type": "code",
   "execution_count": 6,
   "metadata": {
    "attributes": {
     "classes": [
      "sh"
     ],
     "id": ""
    },
    "colab": {},
    "colab_type": "code",
    "id": "xIBZVEjkqkc5"
   },
   "outputs": [
    {
     "name": "stdout",
     "output_type": "stream",
     "text": [
      "INFO line 38:8: Renamed 'tf.feature_column.input_layer' to 'tf.compat.v1.feature_column.input_layer'\r\n",
      "INFO line 43:10: Renamed 'tf.layers.dense' to 'tf.compat.v1.layers.dense'\r\n",
      "INFO line 46:17: Renamed 'tf.layers.dense' to 'tf.compat.v1.layers.dense'\r\n",
      "INFO line 57:17: tf.losses.mean_squared_error requires manual check. tf.losses have been replaced with object oriented versions in TF 2.0 and after. The loss function calls have been converted to compat.v1 for backward compatibility. Please update these calls to the TF 2.0 versions.\r\n",
      "INFO line 57:17: Renamed 'tf.losses.mean_squared_error' to 'tf.compat.v1.losses.mean_squared_error'\r\n",
      "INFO line 61:15: Added keywords to args of function 'tf.shape'\r\n",
      "INFO line 62:15: Changed tf.to_float call to tf.cast(..., dtype=tf.float32).\r\n",
      "INFO line 65:40: Renamed 'tf.train.AdamOptimizer' to 'tf.compat.v1.train.AdamOptimizer'\r\n",
      "INFO line 68:39: Renamed 'tf.train.get_global_step' to 'tf.compat.v1.train.get_global_step'\r\n",
      "INFO line 83:9: tf.metrics.root_mean_squared_error requires manual check. tf.metrics have been replaced with object oriented versions in TF 2.0 and after. The metric function calls have been converted to compat.v1 for backward compatibility. Please update these calls to the TF 2.0 versions.\r\n",
      "INFO line 83:9: Renamed 'tf.metrics.root_mean_squared_error' to 'tf.compat.v1.metrics.root_mean_squared_error'\r\n",
      "INFO line 142:23: Renamed 'tf.train.AdamOptimizer' to 'tf.compat.v1.train.AdamOptimizer'\r\n",
      "INFO line 162:2: Renamed 'tf.logging.set_verbosity' to 'tf.compat.v1.logging.set_verbosity'\r\n",
      "INFO line 162:27: Renamed 'tf.logging.INFO' to 'tf.compat.v1.logging.INFO'\r\n",
      "INFO line 163:2: Renamed 'tf.app.run' to 'tf.compat.v1.app.run'\r\n",
      "TensorFlow 2.0 Upgrade Script\r\n",
      "-----------------------------\r\n",
      "Converted 1 files\r\n",
      "Detected 0 issues that require attention\r\n",
      "--------------------------------------------------------------------------------\r\n",
      "\r\n",
      "\r\n",
      "Make sure to read the detailed log 'report.txt'\r\n",
      "\r\n"
     ]
    }
   ],
   "source": [
    "!tf_upgrade_v2 \\\n",
    "  --infile models/samples/cookbook/regression/custom_regression.py \\\n",
    "  --outfile /tmp/custom_regression_v2.py"
   ]
  },
  {
   "cell_type": "markdown",
   "metadata": {
    "colab_type": "text",
    "id": "L9X2lxzqqkc9"
   },
   "source": [
    "The script will print errors if it can not find a fix for the code. "
   ]
  },
  {
   "cell_type": "markdown",
   "metadata": {
    "colab_type": "text",
    "id": "r7zpuE1vWSlL"
   },
   "source": [
    "### Directory tree"
   ]
  },
  {
   "cell_type": "markdown",
   "metadata": {
    "colab_type": "text",
    "id": "2q7Gtuu8SdIC"
   },
   "source": [
    "Typical projects, including this simple example, will use much more than one file. Typically want to upgrade an entire package, so the script can also be run on a directory tree:"
   ]
  },
  {
   "cell_type": "code",
   "execution_count": 7,
   "metadata": {
    "colab": {},
    "colab_type": "code",
    "id": "XGqcdkAPqkc-"
   },
   "outputs": [
    {
     "name": "stdout",
     "output_type": "stream",
     "text": [
      "INFO line 72:10: tf.estimator.DNNRegressor: Default value of loss_reduction has been changed to SUM_OVER_BATCH_SIZE; inserting old default value tf.keras.losses.Reduction.SUM.\n",
      "\n",
      "INFO line 96:2: Renamed 'tf.logging.set_verbosity' to 'tf.compat.v1.logging.set_verbosity'\n",
      "INFO line 96:27: Renamed 'tf.logging.INFO' to 'tf.compat.v1.logging.INFO'\n",
      "INFO line 97:2: Renamed 'tf.app.run' to 'tf.compat.v1.app.run'\n",
      "INFO line 40:7: Renamed 'tf.test.mock' to 'tf.compat.v1.test.mock'\n",
      "INFO line 58:10: tf.estimator.LinearRegressor: Default value of loss_reduction has been changed to SUM_OVER_BATCH_SIZE; inserting old default value tf.keras.losses.Reduction.SUM.\n",
      "\n",
      "INFO line 101:2: Renamed 'tf.logging.set_verbosity' to 'tf.compat.v1.logging.set_verbosity'\n",
      "INFO line 101:27: Renamed 'tf.logging.INFO' to 'tf.compat.v1.logging.INFO'\n",
      "INFO line 102:2: Renamed 'tf.app.run' to 'tf.compat.v1.app.run'\n",
      "INFO line 38:8: Renamed 'tf.feature_column.input_layer' to 'tf.compat.v1.feature_column.input_layer'\n",
      "INFO line 43:10: Renamed 'tf.layers.dense' to 'tf.compat.v1.layers.dense'\n",
      "INFO line 46:17: Renamed 'tf.layers.dense' to 'tf.compat.v1.layers.dense'\n",
      "INFO line 57:17: tf.losses.mean_squared_error requires manual check. tf.losses have been replaced with object oriented versions in TF 2.0 and after. The loss function calls have been converted to compat.v1 for backward compatibility. Please update these calls to the TF 2.0 versions.\n",
      "INFO line 57:17: Renamed 'tf.losses.mean_squared_error' to 'tf.compat.v1.losses.mean_squared_error'\n",
      "INFO line 61:15: Added keywords to args of function 'tf.shape'\n",
      "INFO line 62:15: Changed tf.to_float call to tf.cast(..., dtype=tf.float32).\n",
      "INFO line 65:40: Renamed 'tf.train.AdamOptimizer' to 'tf.compat.v1.train.AdamOptimizer'\n",
      "INFO line 68:39: Renamed 'tf.train.get_global_step' to 'tf.compat.v1.train.get_global_step'\n",
      "INFO line 83:9: tf.metrics.root_mean_squared_error requires manual check. tf.metrics have been replaced with object oriented versions in TF 2.0 and after. The metric function calls have been converted to compat.v1 for backward compatibility. Please update these calls to the TF 2.0 versions.\n",
      "INFO line 83:9: Renamed 'tf.metrics.root_mean_squared_error' to 'tf.compat.v1.metrics.root_mean_squared_error'\n",
      "INFO line 142:23: Renamed 'tf.train.AdamOptimizer' to 'tf.compat.v1.train.AdamOptimizer'\n",
      "INFO line 162:2: Renamed 'tf.logging.set_verbosity' to 'tf.compat.v1.logging.set_verbosity'\n",
      "INFO line 162:27: Renamed 'tf.logging.INFO' to 'tf.compat.v1.logging.INFO'\n",
      "INFO line 163:2: Renamed 'tf.app.run' to 'tf.compat.v1.app.run'\n",
      "WARNING line 125:15: Changing dataset.make_one_shot_iterator() to tf.compat.v1.data.make_one_shot_iterator(dataset). Please check this transformation.\n",
      "\n",
      "INFO line 82:10: tf.estimator.LinearRegressor: Default value of loss_reduction has been changed to SUM_OVER_BATCH_SIZE; inserting old default value tf.keras.losses.Reduction.SUM.\n",
      "\n",
      "INFO line 105:2: Renamed 'tf.logging.set_verbosity' to 'tf.compat.v1.logging.set_verbosity'\n",
      "INFO line 105:27: Renamed 'tf.logging.INFO' to 'tf.compat.v1.logging.INFO'\n",
      "INFO line 106:2: Renamed 'tf.app.run' to 'tf.compat.v1.app.run'\n",
      "TensorFlow 2.0 Upgrade Script\n",
      "-----------------------------\n",
      "Converted 7 files\n",
      "Detected 1 issues that require attention\n",
      "--------------------------------------------------------------------------------\n",
      "--------------------------------------------------------------------------------\n",
      "File: models/samples/cookbook/regression/automobile_data.py\n",
      "--------------------------------------------------------------------------------\n",
      "models/samples/cookbook/regression/automobile_data.py:125:15: WARNING: Changing dataset.make_one_shot_iterator() to tf.compat.v1.data.make_one_shot_iterator(dataset). Please check this transformation.\n",
      "\n",
      "\n",
      "\n",
      "Make sure to read the detailed log 'tree_report.txt'\n",
      "\n"
     ]
    }
   ],
   "source": [
    "# upgrade the .py files and copy all the other files to the outtree\n",
    "!tf_upgrade_v2 \\\n",
    "    --intree models/samples/cookbook/regression/ \\\n",
    "    --outtree regression_v2/ \\\n",
    "    --reportfile tree_report.txt"
   ]
  },
  {
   "cell_type": "markdown",
   "metadata": {
    "colab_type": "text",
    "id": "2S4j7sqbSowC"
   },
   "source": [
    "Note the one warning about the `dataset.make_one_shot_iterator` function.\n",
    "\n",
    "Now the script works in with TensorFlow 2.0:\n",
    "\n",
    "Note that because the `tf.compat.v1` module, the converted script will also run in TensorFlow 1.14. "
   ]
  },
  {
   "cell_type": "code",
   "execution_count": 8,
   "metadata": {
    "colab": {},
    "colab_type": "code",
    "id": "vh0cmW3y1tX9"
   },
   "outputs": [
    {
     "name": "stdout",
     "output_type": "stream",
     "text": [
      "Traceback (most recent call last):\r\n",
      "  File \"custom_regression.py\", line 25, in <module>\r\n",
      "    import automobile_data\r\n",
      "  File \"/home/ubuntu/VisemeNet_tensorflow/regression_v2/automobile_data.py\", line 24, in <module>\r\n",
      "    import pandas as pd\r\n",
      "ModuleNotFoundError: No module named 'pandas'\r\n"
     ]
    }
   ],
   "source": [
    "!(cd regression_v2 && python custom_regression.py 2>&1) | tail"
   ]
  },
  {
   "cell_type": "markdown",
   "metadata": {
    "colab_type": "text",
    "id": "4EgZGGkdqkdC"
   },
   "source": [
    "## Detailed report\n",
    "\n",
    "The script also reports a list of detailed changes. In this example it found one possibly unsafe transformation and included a warning at the top of the file: "
   ]
  },
  {
   "cell_type": "code",
   "execution_count": 9,
   "metadata": {
    "colab": {},
    "colab_type": "code",
    "id": "CtHaZbVaNMGV"
   },
   "outputs": [
    {
     "name": "stdout",
     "output_type": "stream",
     "text": [
      "TensorFlow 2.0 Upgrade Script\r\n",
      "-----------------------------\r\n",
      "Converted 7 files\r\n",
      "Detected 1 issues that require attention\r\n",
      "--------------------------------------------------------------------------------\r\n",
      "--------------------------------------------------------------------------------\r\n",
      "File: models/samples/cookbook/regression/automobile_data.py\r\n",
      "--------------------------------------------------------------------------------\r\n",
      "models/samples/cookbook/regression/automobile_data.py:125:15: WARNING: Changing dataset.make_one_shot_iterator() to tf.compat.v1.data.make_one_shot_iterator(dataset). Please check this transformation.\r\n",
      "\r\n",
      "================================================================================\r\n",
      "Detailed log follows:\r\n",
      "\r\n",
      "================================================================================\r\n",
      "================================================================================\r\n",
      "Input tree: 'models/samples/cookbook/regression/'\r\n",
      "================================================================================\r\n",
      "--------------------------------------------------------------------------------\r\n",
      "Processing file 'models/samples/cookbook/regression/dnn_regression.py'\r\n",
      " outputting to 'regression_v2/dnn_regression.py'\r\n"
     ]
    }
   ],
   "source": [
    "!head -n 20 tree_report.txt"
   ]
  },
  {
   "cell_type": "markdown",
   "metadata": {
    "colab_type": "text",
    "id": "1-UIFXP3cFSa"
   },
   "source": [
    "Note again the one warning about the `Dataset.make_one_shot_iterator function`."
   ]
  },
  {
   "cell_type": "markdown",
   "metadata": {
    "colab_type": "text",
    "id": "oxQeYS1TN-jv"
   },
   "source": [
    "In other cases the output will explain the reasoning for non-trivial changes:"
   ]
  },
  {
   "cell_type": "code",
   "execution_count": 10,
   "metadata": {
    "colab": {},
    "colab_type": "code",
    "id": "WQs9kEvVN9th"
   },
   "outputs": [
    {
     "name": "stdout",
     "output_type": "stream",
     "text": [
      "Writing dropout.py\n"
     ]
    }
   ],
   "source": [
    "%%writefile dropout.py\n",
    "import tensorflow as tf\n",
    "\n",
    "d = tf.nn.dropout(tf.range(10), 0.2)\n",
    "z = tf.zeros_like(d, optimize=False)"
   ]
  },
  {
   "cell_type": "code",
   "execution_count": 11,
   "metadata": {
    "colab": {},
    "colab_type": "code",
    "id": "7uOkacZsO3XX"
   },
   "outputs": [],
   "source": [
    "!tf_upgrade_v2 \\\n",
    "  --infile dropout.py \\\n",
    "  --outfile dropout_v2.py \\\n",
    "  --reportfile dropout_report.txt > /dev/null"
   ]
  },
  {
   "cell_type": "code",
   "execution_count": 12,
   "metadata": {
    "colab": {},
    "colab_type": "code",
    "id": "m-J82-scPMGl"
   },
   "outputs": [
    {
     "name": "stdout",
     "output_type": "stream",
     "text": [
      "TensorFlow 2.0 Upgrade Script\r\n",
      "-----------------------------\r\n",
      "Converted 1 files\r\n",
      "Detected 0 issues that require attention\r\n",
      "--------------------------------------------------------------------------------\r\n",
      "================================================================================\r\n",
      "Detailed log follows:\r\n",
      "\r\n",
      "================================================================================\r\n",
      "--------------------------------------------------------------------------------\r\n",
      "Processing file 'dropout.py'\r\n",
      " outputting to 'dropout_v2.py'\r\n",
      "--------------------------------------------------------------------------------\r\n",
      "\r\n",
      "3:4: INFO: Changing keep_prob arg of tf.nn.dropout to rate, and recomputing value.\r\n",
      "\r\n",
      "4:4: INFO: Renaming tf.zeros_like to tf.compat.v1.zeros_like because argument optimize is present. tf.zeros_like no longer takes an optimize argument, and behaves as if optimize=True. This call site specifies something other than optimize=True, so it was converted to compat.v1.\r\n",
      "--------------------------------------------------------------------------------\r\n",
      "\r\n"
     ]
    }
   ],
   "source": [
    "!cat dropout_report.txt"
   ]
  },
  {
   "cell_type": "markdown",
   "metadata": {
    "colab_type": "text",
    "id": "DOOLN21nTGSS"
   },
   "source": [
    "Here is the modified file contents, note how the script adds argument names to deal with moved and renamed arguments:"
   ]
  },
  {
   "cell_type": "code",
   "execution_count": 13,
   "metadata": {
    "colab": {},
    "colab_type": "code",
    "id": "SrYcJk9-TFlU"
   },
   "outputs": [
    {
     "name": "stdout",
     "output_type": "stream",
     "text": [
      "import tensorflow as tf\r\n",
      "\r\n",
      "d = tf.nn.dropout(tf.range(10), 1 - (0.2))\r\n",
      "z = tf.compat.v1.zeros_like(d, optimize=False)\r\n"
     ]
    }
   ],
   "source": [
    "!cat dropout_v2.py"
   ]
  },
  {
   "cell_type": "markdown",
   "metadata": {
    "colab_type": "text",
    "id": "wI_sVNp_b4C4"
   },
   "source": [
    "A larger project might contain a few errors. For example convert the deeplab model:"
   ]
  },
  {
   "cell_type": "code",
   "execution_count": 14,
   "metadata": {
    "colab": {},
    "colab_type": "code",
    "id": "uzuY-bOvYBS7"
   },
   "outputs": [],
   "source": [
    "!tf_upgrade_v2 \\\n",
    "    --intree models/research/deeplab \\\n",
    "    --outtree deeplab_v2 \\\n",
    "    --reportfile deeplab_report.txt > /dev/null"
   ]
  },
  {
   "cell_type": "markdown",
   "metadata": {
    "colab_type": "text",
    "id": "FLhw3fm8drae"
   },
   "source": [
    "It produced the output files:"
   ]
  },
  {
   "cell_type": "code",
   "execution_count": 15,
   "metadata": {
    "colab": {},
    "colab_type": "code",
    "id": "4YYLRxWJdSvQ"
   },
   "outputs": [
    {
     "name": "stdout",
     "output_type": "stream",
     "text": [
      "README.md\tdatasets\t    input_preprocess.py        train.py\r\n",
      "__init__.py\tdeeplab_demo.ipynb  local_test.sh\t       utils\r\n",
      "common.py\teval.py\t\t    local_test_mobilenetv2.sh  vis.py\r\n",
      "common_test.py\texport_model.py     model.py\r\n",
      "core\t\tg3doc\t\t    model_test.py\r\n"
     ]
    }
   ],
   "source": [
    "!ls deeplab_v2"
   ]
  },
  {
   "cell_type": "markdown",
   "metadata": {
    "colab_type": "text",
    "id": "qtTC-cAZdEBy"
   },
   "source": [
    "But there were errors. The report will help you pin-point what you need to fix before this will run. Here are the first three errors:"
   ]
  },
  {
   "cell_type": "code",
   "execution_count": 16,
   "metadata": {
    "colab": {},
    "colab_type": "code",
    "id": "UVTNOohlcyVZ"
   },
   "outputs": [
    {
     "name": "stdout",
     "output_type": "stream",
     "text": [
      "models/research/deeplab/eval.py:28:7: ERROR: Using member tf.contrib.slim in deprecated module tf.contrib. tf.contrib.slim cannot be converted automatically. tf.contrib will not be distributed with TensorFlow 2.0, please consider an alternative in non-contrib TensorFlow, a community-maintained repository such as tensorflow/addons, or fork the required code.\r\n",
      "models/research/deeplab/eval.py:146:8: ERROR: Using member tf.contrib.metrics.aggregate_metric_map in deprecated module tf.contrib. tf.contrib.metrics.aggregate_metric_map cannot be converted automatically. tf.contrib will not be distributed with TensorFlow 2.0, please consider an alternative in non-contrib TensorFlow, a community-maintained repository such as tensorflow/addons, or fork the required code.\r\n",
      "models/research/deeplab/model.py:60:7: ERROR: Using member tf.contrib.slim in deprecated module tf.contrib. tf.contrib.slim cannot be converted automatically. tf.contrib will not be distributed with TensorFlow 2.0, please consider an alternative in non-contrib TensorFlow, a community-maintained repository such as tensorflow/addons, or fork the required code.\r\n"
     ]
    }
   ],
   "source": [
    "!cat deeplab_report.txt | grep -i models/research/deeplab | grep -i error | head -n 3"
   ]
  },
  {
   "cell_type": "markdown",
   "metadata": {
    "colab_type": "text",
    "id": "gGBeDaFVRJ5l"
   },
   "source": [
    "## \"Safety\" mode"
   ]
  },
  {
   "cell_type": "markdown",
   "metadata": {
    "colab_type": "text",
    "id": "BnfCxB7SVtTO"
   },
   "source": [
    "The conversion script also has a less invasive `SAFETY` mode that simply changes the imports to use the `tensorflow.compat.v1` module:"
   ]
  },
  {
   "cell_type": "code",
   "execution_count": 17,
   "metadata": {
    "colab": {},
    "colab_type": "code",
    "id": "XdaVXCPWQCC5"
   },
   "outputs": [
    {
     "name": "stdout",
     "output_type": "stream",
     "text": [
      "import tensorflow as tf\r\n",
      "\r\n",
      "d = tf.nn.dropout(tf.range(10), 0.2)\r\n",
      "z = tf.zeros_like(d, optimize=False)\r\n"
     ]
    }
   ],
   "source": [
    "!cat dropout.py"
   ]
  },
  {
   "cell_type": "code",
   "execution_count": 18,
   "metadata": {
    "colab": {},
    "colab_type": "code",
    "id": "c0tvRJLGRYEb"
   },
   "outputs": [],
   "source": [
    "!tf_upgrade_v2 --mode SAFETY --infile dropout.py --outfile dropout_v2_safe.py > /dev/null"
   ]
  },
  {
   "cell_type": "code",
   "execution_count": 19,
   "metadata": {
    "colab": {},
    "colab_type": "code",
    "id": "91suN2RaRfIV"
   },
   "outputs": [
    {
     "name": "stdout",
     "output_type": "stream",
     "text": [
      "import tensorflow.compat.v1 as tf\r\n",
      "tf.disable_v2_behavior()\r\n",
      "\r\n",
      "d = tf.nn.dropout(tf.range(10), 0.2)\r\n",
      "z = tf.zeros_like(d, optimize=False)\r\n"
     ]
    }
   ],
   "source": [
    "!cat dropout_v2_safe.py"
   ]
  },
  {
   "cell_type": "markdown",
   "metadata": {
    "colab_type": "text",
    "id": "EOzTF7xbZqqW"
   },
   "source": [
    "As you can see this doesn't upgrade your code, but does allow TensorFlow 1 code to run in TensorFlow 2"
   ]
  },
  {
   "cell_type": "markdown",
   "metadata": {
    "colab_type": "text",
    "id": "jGfXVApkqkdG"
   },
   "source": [
    "\n",
    "## Caveats\n",
    "\n",
    "- Do not update parts of your code manually before running this script. In particular, functions that have had reordered arguments like `tf.argmax` or `tf.batch_to_space` cause the script to incorrectly add keyword arguments that mismap your existing code.\n",
    "\n",
    "- The script assumes that `tensorflow` is imported using `import tensorflow as tf`.\n",
    "\n",
    "- This script does not reorder arguments. Instead, the script adds keyword arguments to functions that have their arguments reordered.\n",
    "\n",
    "- Check out [tf2up.ml](http://tf2up.ml) for a convenient tool to upgrade Jupyter\n",
    "  notebooks and Python files in a GitHub repository.\n",
    "\n",
    "To report upgrade script bugs or make feature requests, please file an issue on [GitHub](https://github.com/tensorflow/tensorflow/issues). And if you’re testing TensorFlow 2.0, we want to hear about it! Join the [TF 2.0 Testing community](https://groups.google.com/a/tensorflow.org/forum/#!forum/testing) and send questions and discussion to [testing@tensorflow.org](mailto:testing@tensorflow.org)."
   ]
  }
 ],
 "metadata": {
  "colab": {
   "collapsed_sections": [],
   "name": "upgrade.ipynb",
   "private_outputs": true,
   "provenance": [],
   "toc_visible": true,
   "version": "0.3.2"
  },
  "kernelspec": {
   "display_name": "Python 3",
   "language": "python",
   "name": "python3"
  },
  "language_info": {
   "codemirror_mode": {
    "name": "ipython",
    "version": 3
   },
   "file_extension": ".py",
   "mimetype": "text/x-python",
   "name": "python",
   "nbconvert_exporter": "python",
   "pygments_lexer": "ipython3",
   "version": "3.7.5"
  }
 },
 "nbformat": 4,
 "nbformat_minor": 1
}
